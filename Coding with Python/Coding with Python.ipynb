{
 "cells": [
  {
   "cell_type": "markdown",
   "metadata": {},
   "source": [
    "# Task 1\n",
    "### Running Code in Notebook\n",
    "I found the running code notebook to be quite interesting as it mentions how code1 cells work as well as running output with for loops with clear examples of how they work. \n",
    "\n",
    "The aforementioned notebook may be found [here](https://nbviewer.jupyter.org/github/jupyter/notebook/blob/master/docs/source/examples/Notebook/Running%20Code.ipynb)\n",
    "\n",
    "# Task 2\n",
    "## Part A\n",
    "### Numpy\n",
    "The numpy package helps manage \"multi-dimensional arrays (Mester)\". In a sense numpy is a gateway to a multitude of other packages such as: Matplotlib, Scipy, Pandas, and Scikit-Learn. It is also useful when plotting linear or polynomial regressions.\n",
    "\n",
    "### Pandas\n",
    "Pandas allows python the use of two-dimensional tables like the ones in excel and SQL. Python origininally did not provide this feature, which truly allows Pandas to shine. Pandas allows data to be loaded into dataframes and use certain functions like group by, filter, select and the like similar to excel. It also allows the creation of multi-dimensional data-tables. As much of coding contains the understanding of data, Pandas allow \"data analysis, data cleaning, data handling and data discovery (Mester)\". \n",
    "\n",
    "### Matplotlib\n",
    "Matplotlib allows data visualization in python and is the best library for that specific function. Similar to plotting in other programming languages, data visualization is important in understanding the data and showing what they mean, making Matplotlib a very important library for python.\n",
    "\n",
    "Link to [source](https://data36.com/python-libraries-packages-data-scientists/)\n",
    "\n",
    "## Part B\n",
    "[Matplotlib](https://matplotlib.org/)\n",
    "\n",
    "## Part C\n",
    "[Pandas](https://pandas.pydata.org/)\n",
    "\n",
    "# Task 3\n",
    "### 3 Differences\n",
    "1. You can't knit in python to create it in html but you can in R\n",
    "2. After importing a package/library you have to call it again like pandas.read_csv\n",
    "3. Functions like .mean() takes out NA values automatically but R has to call na.rm = T\n",
    "\n",
    "# Task 4"
   ]
  },
  {
   "cell_type": "code",
   "execution_count": 14,
   "metadata": {},
   "outputs": [
    {
     "name": "stdout",
     "output_type": "stream",
     "text": [
      "My name isAndy Tsengand I am aseniorstudying in theUniversity of Washington\n"
     ]
    }
   ],
   "source": [
    "a = \"My name is\"\n",
    "b = \"Andy Tseng\"\n",
    "c = \"and I am a\"\n",
    "d = \"senior\"\n",
    "e = \"studying in the\"\n",
    "f = \"University of Washington\"\n",
    "print a + b + c + d + e + f"
   ]
  },
  {
   "cell_type": "markdown",
   "metadata": {},
   "source": [
    "# Task 5"
   ]
  },
  {
   "cell_type": "code",
   "execution_count": 15,
   "metadata": {},
   "outputs": [
    {
     "name": "stdout",
     "output_type": "stream",
     "text": [
      "My name isAndy Tsengand I am aseniorstudying in theUniversity of Washingtonin the class of2019\n",
      "MY NAME ISANDY TSENGAND I AM ASENIORSTUDYING IN THEUNIVERSITY OF WASHINGTONIN THE CLASS OF2019\n"
     ]
    }
   ],
   "source": [
    "g = \"in the class of\"\n",
    "num = 2019\n",
    "print a + b + c + d + e + f + g + str(num)\n",
    "text = a + b + c + d + e + f + g + str(num)\n",
    "print text.upper()"
   ]
  },
  {
   "cell_type": "markdown",
   "metadata": {},
   "source": [
    "# Task 6"
   ]
  },
  {
   "cell_type": "code",
   "execution_count": 17,
   "metadata": {},
   "outputs": [
    {
     "name": "stdout",
     "output_type": "stream",
     "text": [
      "My name is Andy Tseng and I am a senior studying in the University of Washington in the class of 2019\n",
      "3\n"
     ]
    },
    {
     "data": {
      "text/plain": [
       "36"
      ]
     },
     "execution_count": 17,
     "metadata": {},
     "output_type": "execute_result"
    }
   ],
   "source": [
    "mylist = [a, b, c, d, e, f, g, str(num)]\n",
    "space = \" \"\n",
    "joined = space.join(mylist)\n",
    "print joined\n",
    "print joined.count(\"d\")\n",
    "joined.find(\"ior\")"
   ]
  },
  {
   "cell_type": "markdown",
   "metadata": {},
   "source": [
    "# Task 7"
   ]
  },
  {
   "cell_type": "code",
   "execution_count": 20,
   "metadata": {},
   "outputs": [
    {
     "data": {
      "text/plain": [
       "50"
      ]
     },
     "execution_count": 20,
     "metadata": {},
     "output_type": "execute_result"
    }
   ],
   "source": [
    "len(joined)/2\n",
    "print joined[:51]"
   ]
  },
  {
   "cell_type": "markdown",
   "metadata": {},
   "source": [
    "# Task 8"
   ]
  },
  {
   "cell_type": "code",
   "execution_count": 21,
   "metadata": {},
   "outputs": [
    {
     "data": {
      "text/plain": [
       "'My name is Ling Hua Tseng and I am a senior studying in the University of Washington in the class of '"
      ]
     },
     "execution_count": 21,
     "metadata": {},
     "output_type": "execute_result"
    }
   ],
   "source": [
    "stripped = joined.strip(\"2019\")\n",
    "stripped.replace(\"Andy\", \"Ling Hua\")"
   ]
  },
  {
   "cell_type": "markdown",
   "metadata": {},
   "source": [
    "# Task 9"
   ]
  },
  {
   "cell_type": "code",
   "execution_count": 22,
   "metadata": {},
   "outputs": [
    {
     "data": {
      "text/plain": [
       "['My',\n",
       " 'name',\n",
       " 'is',\n",
       " 'Andy',\n",
       " 'Tseng',\n",
       " 'and',\n",
       " 'I',\n",
       " 'am',\n",
       " 'a',\n",
       " 'young',\n",
       " 'senior',\n",
       " 'studying',\n",
       " 'in',\n",
       " 'the',\n",
       " 'University',\n",
       " 'of',\n",
       " 'Washington',\n",
       " 'in',\n",
       " 'the',\n",
       " 'class',\n",
       " 'of']"
      ]
     },
     "execution_count": 22,
     "metadata": {},
     "output_type": "execute_result"
    }
   ],
   "source": [
    "sep = stripped.split()\n",
    "sep.insert(9, \"young\")\n",
    "sep"
   ]
  },
  {
   "cell_type": "markdown",
   "metadata": {},
   "source": [
    "# Task 10"
   ]
  },
  {
   "cell_type": "code",
   "execution_count": 23,
   "metadata": {},
   "outputs": [
    {
     "name": "stdout",
     "output_type": "stream",
     "text": [
      "59\n",
      "3rd Quartile\n"
     ]
    }
   ],
   "source": [
    "import random\n",
    "x = random.randint(1, 100)\n",
    "print x\n",
    "if x <= 25:\n",
    "\tprint \"1st Quartile\"\n",
    "elif x > 25 and x <= 50:\n",
    "\tprint \"2nd Quartile\"\n",
    "elif x > 50 and x <= 75:\n",
    "\tprint \"3rd Quartile\"\n",
    "else:\n",
    "\tprint \"4th Quartile\""
   ]
  },
  {
   "cell_type": "markdown",
   "metadata": {},
   "source": [
    "# Task 11"
   ]
  },
  {
   "cell_type": "code",
   "execution_count": 24,
   "metadata": {},
   "outputs": [
    {
     "name": "stdout",
     "output_type": "stream",
     "text": [
      "Warning, residents of Seattle, temperatures will reach sub-zero temperatures today, please stay indoors if possible\n",
      "Warning, residents of New York, temperatures will reach sub-zero temperatures today, please stay indoors if possible\n",
      "Warning, residents of Chicago, temperatures will reach sub-zero temperatures today, please stay indoors if possible\n",
      "Warning, residents of Boston, temperatures will reach sub-zero temperatures today, please stay indoors if possible\n",
      "Warning, residents of Toronto, temperatures will reach sub-zero temperatures today, please stay indoors if possible\n",
      "Warning, residents of San Francisco, temperatures will reach sub-zero temperatures today, please stay indoors if possible\n"
     ]
    }
   ],
   "source": [
    "mylist = [\"Seattle\", \"New York\", \"Chicago\", \"Boston\", \"Toronto\", \"San Francisco\"]\n",
    "for city in mylist:\n",
    "\tprint \"Warning, residents of \" + city + \", temperatures will reach sub-zero temperatures today, please stay indoors if possible\""
   ]
  },
  {
   "cell_type": "markdown",
   "metadata": {},
   "source": [
    "# Task 12"
   ]
  },
  {
   "cell_type": "code",
   "execution_count": 25,
   "metadata": {},
   "outputs": [
    {
     "name": "stdout",
     "output_type": "stream",
     "text": [
      "['U://Users/Zhang/Geog_458/Washington.shp', 'U://Users/Zhang/Geog_458/California.shp', 'U://Users/Zhang/Geog_458/Nevada.shp', 'U://Users/Zhang/Geog_458/Idaho.shp', 'U://Users/Zhang/Geog_458/Montana.shp', 'U://Users/Zhang/Geog_458/Utah.shp', 'U://Users/Zhang/Geog_458/Colorado.shp', 'U://Users/Zhang/Geog_458/New_Mexico.shp']\n"
     ]
    }
   ],
   "source": [
    "list = []\n",
    "cities = [\"Washington\", \"California\", \"Nevada\", \"Idaho\", \"Montana\", \"Utah\", \"Colorado\", \"New_Mexico\"]\n",
    "for place in cities:\n",
    "\tlist.append(\"U://Users/Zhang/Geog_458/\" + place + \".shp\")\n",
    "print list"
   ]
  },
  {
   "cell_type": "markdown",
   "metadata": {},
   "source": [
    "# Task 13"
   ]
  },
  {
   "cell_type": "code",
   "execution_count": 26,
   "metadata": {},
   "outputs": [
    {
     "name": "stdout",
     "output_type": "stream",
     "text": [
      "T-minus 10\n",
      "T-minus 9\n",
      "T-minus 8\n",
      "T-minus 7\n",
      "T-minus 6\n",
      "T-minus 5\n",
      "T-minus 4\n",
      "T-minus 3\n",
      "T-minus 2\n",
      "T-minus 1\n",
      "T-minus 0\n"
     ]
    }
   ],
   "source": [
    "i = 10\n",
    "while i > -1:\n",
    "\tprint \"T-minus \" + str(i)\n",
    "\ti -= 1"
   ]
  },
  {
   "cell_type": "markdown",
   "metadata": {},
   "source": [
    "# Task 14"
   ]
  },
  {
   "cell_type": "code",
   "execution_count": 27,
   "metadata": {},
   "outputs": [],
   "source": [
    "def countdown(x):\n",
    "\twhile x > -1:\n",
    "\t\tprint \"T-minus \" + str(x)\n",
    "\t\tx -= 1"
   ]
  },
  {
   "cell_type": "markdown",
   "metadata": {},
   "source": [
    "# Task 15"
   ]
  },
  {
   "cell_type": "code",
   "execution_count": 29,
   "metadata": {},
   "outputs": [
    {
     "name": "stdout",
     "output_type": "stream",
     "text": [
      "Number: 40\n",
      "2nd Quartile\n"
     ]
    }
   ],
   "source": [
    "def quartile_calc():\n",
    "    num = input(\"Number: \")\n",
    "    num = int(num)\n",
    "    if num > 0 and num <= 25:\n",
    "        print (\"1st Quartile\")\n",
    "    elif num > 25 and num <= 50:\n",
    "        print (\"2nd Quartile\")\n",
    "    elif num > 50 and num <= 75:\n",
    "        print (\"3rd Quartile\")\n",
    "    elif num > 75 and num <= 100:\n",
    "        print (\"4th Quartile\")\n",
    "    else:\n",
    "        print (\"Error\")\n",
    "        \n",
    "quartile_calc()"
   ]
  }
 ],
 "metadata": {
  "kernelspec": {
   "display_name": "Python 2",
   "language": "python",
   "name": "python2"
  },
  "language_info": {
   "codemirror_mode": {
    "name": "ipython",
    "version": 2
   },
   "file_extension": ".py",
   "mimetype": "text/x-python",
   "name": "python",
   "nbconvert_exporter": "python",
   "pygments_lexer": "ipython2",
   "version": "2.7.15"
  }
 },
 "nbformat": 4,
 "nbformat_minor": 2
}
